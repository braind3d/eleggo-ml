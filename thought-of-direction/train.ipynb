{
 "cells": [
  {
   "cell_type": "markdown",
   "metadata": {},
   "source": [
    "# Train"
   ]
  },
  {
   "cell_type": "markdown",
   "metadata": {},
   "source": [
    "### Library setups and imports"
   ]
  },
  {
   "cell_type": "code",
   "execution_count": 1,
   "metadata": {
    "scrolled": true
   },
   "outputs": [],
   "source": [
    "import os\n",
    "import numpy as np\n",
    "import tensorflow as tf\n",
    "import random\n",
    "from tensorflow.keras.models import Sequential\n",
    "from tensorflow.keras.layers import Dense, Dropout, Flatten\n",
    "from tensorflow.keras.layers import Conv1D, MaxPooling1D"
   ]
  },
  {
   "cell_type": "markdown",
   "metadata": {},
   "source": [
    "### Parameters"
   ]
  },
  {
   "cell_type": "code",
   "execution_count": 2,
   "metadata": {},
   "outputs": [],
   "source": [
    "USE_DOWNLOADED_SET = True\n",
    "DOWNLOADED_SET_URL = 'https://hkinsley.com/static/downloads/bci/model_data_v2.7z'\n",
    "DATA_DIR = 'data/mask-iv-openbci' if USE_DOWNLOADED_SET else 'data/personal'\n",
    "LABELS = {\"left\": [1, 0, 0], \"none\": [0, 1, 0], \"right\": [0, 0, 1]}\n",
    "INPUT_SHAPE=(-1, 8, 60)"
   ]
  },
  {
   "cell_type": "markdown",
   "metadata": {},
   "source": [
    "### Data loading"
   ]
  },
  {
   "cell_type": "code",
   "execution_count": 3,
   "metadata": {},
   "outputs": [],
   "source": [
    "def generate_dataset(is_validation_data):\n",
    "    dataset = []\n",
    "    path = os.path.join(DATA_DIR)\n",
    "    subdir = 'validation_data/' if is_validation_data else 'data/'\n",
    "\n",
    "    for label in LABELS:\n",
    "        label_dir = os.path.join(path, subdir, label)\n",
    "        for FILE in os.listdir(label_dir):\n",
    "            if USE_DOWNLOADED_SET:\n",
    "                ffts = np.load(os.path.join(DATA_DIR, subdir, label, FILE))\n",
    "                for fft_data in ffts:\n",
    "                    dataset.append([fft_data[:8], LABELS[label]])\n",
    "            else:\n",
    "                fft_data = np.load(os.path.join(DATA_DIR, FILE))\n",
    "                dataset.append([fft_data[:8], label])\n",
    "        \n",
    "        random.shuffle(dataset)\n",
    "    return dataset"
   ]
  },
  {
   "cell_type": "code",
   "execution_count": 4,
   "metadata": {},
   "outputs": [],
   "source": [
    "training = generate_dataset(False)\n",
    "validation = generate_dataset(True)\n",
    "\n",
    "train_x = []\n",
    "train_y = []\n",
    "for x, y in training:\n",
    "    train_x.append(x)\n",
    "    train_y.append(y)\n",
    "    \n",
    "val_x = []\n",
    "val_y = []\n",
    "for x, y in validation:\n",
    "    val_x.append(x)\n",
    "    val_y.append(y)\n",
    "\n",
    "train_x = np.array(train_x).reshape(INPUT_SHAPE)\n",
    "val_x = np.array(val_x).reshape(INPUT_SHAPE)\n",
    "\n",
    "train_y = np.array(train_y)\n",
    "val_y = np.array(val_y)"
   ]
  },
  {
   "cell_type": "markdown",
   "metadata": {},
   "source": [
    "### Neural network definition"
   ]
  },
  {
   "cell_type": "code",
   "execution_count": 5,
   "metadata": {},
   "outputs": [],
   "source": [
    "model = Sequential([\n",
    "    Conv1D(32, (2), activation='relu', input_shape=train_x.shape[1:], padding='same'),\n",
    "    MaxPooling1D(pool_size=(2)),\n",
    "    Conv1D(128, (2), activation='relu', padding='same'),\n",
    "    MaxPooling1D(pool_size=(2)),\n",
    "    Conv1D(64, (4), activation='relu', padding='same'),\n",
    "    MaxPooling1D(pool_size=(2)),\n",
    "    Dropout(0.4),\n",
    "    Flatten(),\n",
    "    Dense(128, activation='relu', kernel_regularizer='l1'),\n",
    "    Dense(3, activation=tf.nn.softmax)\n",
    "])"
   ]
  },
  {
   "cell_type": "code",
   "execution_count": 7,
   "metadata": {},
   "outputs": [],
   "source": [
    "filepath=\"tmp/weights-improvement-{epoch:02d}-{val_accuracy:.2f}.hdf5\"\n",
    "model_checkpoint_callback = tf.keras.callbacks.ModelCheckpoint(\n",
    "    filepath=filepath,\n",
    "    save_weights_only=False,\n",
    "    monitor='val_accuracy',\n",
    "    mode='max',\n",
    "    save_best_only=True,\n",
    "    verbose=1)"
   ]
  },
  {
   "cell_type": "code",
   "execution_count": 8,
   "metadata": {},
   "outputs": [],
   "source": [
    "model.compile(loss='categorical_crossentropy',\n",
    "              optimizer=tf.keras.optimizers.Adam(learning_rate=0.0001),\n",
    "              metrics=['accuracy'],\n",
    "             callbacks=[model_checkpoint_callback])"
   ]
  },
  {
   "cell_type": "code",
   "execution_count": 9,
   "metadata": {},
   "outputs": [
    {
     "name": "stdout",
     "output_type": "stream",
     "text": [
      "Model: \"sequential\"\n",
      "_________________________________________________________________\n",
      "Layer (type)                 Output Shape              Param #   \n",
      "=================================================================\n",
      "conv1d (Conv1D)              (None, 8, 32)             3872      \n",
      "_________________________________________________________________\n",
      "max_pooling1d (MaxPooling1D) (None, 4, 32)             0         \n",
      "_________________________________________________________________\n",
      "conv1d_1 (Conv1D)            (None, 4, 128)            8320      \n",
      "_________________________________________________________________\n",
      "max_pooling1d_1 (MaxPooling1 (None, 2, 128)            0         \n",
      "_________________________________________________________________\n",
      "conv1d_2 (Conv1D)            (None, 2, 64)             32832     \n",
      "_________________________________________________________________\n",
      "max_pooling1d_2 (MaxPooling1 (None, 1, 64)             0         \n",
      "_________________________________________________________________\n",
      "dropout (Dropout)            (None, 1, 64)             0         \n",
      "_________________________________________________________________\n",
      "flatten (Flatten)            (None, 64)                0         \n",
      "_________________________________________________________________\n",
      "dense (Dense)                (None, 128)               8320      \n",
      "_________________________________________________________________\n",
      "dense_1 (Dense)              (None, 3)                 387       \n",
      "=================================================================\n",
      "Total params: 53,731\n",
      "Trainable params: 53,731\n",
      "Non-trainable params: 0\n",
      "_________________________________________________________________\n"
     ]
    }
   ],
   "source": [
    "model.summary()"
   ]
  },
  {
   "cell_type": "code",
   "execution_count": 10,
   "metadata": {},
   "outputs": [
    {
     "name": "stdout",
     "output_type": "stream",
     "text": [
      "Train on 284625 samples, validate on 35250 samples\n",
      "Epoch 1/30\n",
      "284625/284625 [==============================] - 4s 14us/sample - loss: 7.4584 - accuracy: 0.3692 - val_loss: 6.4904 - val_accuracy: 0.3275\n",
      "Epoch 2/30\n",
      "284625/284625 [==============================] - 3s 12us/sample - loss: 5.5722 - accuracy: 0.4184 - val_loss: 4.7848 - val_accuracy: 0.3593\n",
      "Epoch 3/30\n",
      "284625/284625 [==============================] - 3s 12us/sample - loss: 3.9910 - accuracy: 0.4406 - val_loss: 3.3798 - val_accuracy: 0.3810\n",
      "Epoch 4/30\n",
      "284625/284625 [==============================] - 4s 14us/sample - loss: 2.7390 - accuracy: 0.4546 - val_loss: 2.3000 - val_accuracy: 0.3999\n",
      "Epoch 5/30\n",
      "284625/284625 [==============================] - 4s 13us/sample - loss: 1.8320 - accuracy: 0.4637 - val_loss: 1.5645 - val_accuracy: 0.4036\n",
      "Epoch 6/30\n",
      "284625/284625 [==============================] - 4s 14us/sample - loss: 1.2861 - accuracy: 0.4664 - val_loss: 1.1915 - val_accuracy: 0.3977\n",
      "Epoch 7/30\n",
      "284625/284625 [==============================] - 4s 14us/sample - loss: 1.0906 - accuracy: 0.4661 - val_loss: 1.1263 - val_accuracy: 0.4244\n",
      "Epoch 8/30\n",
      "284625/284625 [==============================] - 4s 14us/sample - loss: 1.0612 - accuracy: 0.4682 - val_loss: 1.1109 - val_accuracy: 0.4339\n",
      "Epoch 9/30\n",
      "284625/284625 [==============================] - 4s 14us/sample - loss: 1.0494 - accuracy: 0.4741 - val_loss: 1.1089 - val_accuracy: 0.4205\n",
      "Epoch 10/30\n",
      "284625/284625 [==============================] - 4s 14us/sample - loss: 1.0386 - accuracy: 0.4799 - val_loss: 1.1004 - val_accuracy: 0.4394\n",
      "Epoch 11/30\n",
      "284625/284625 [==============================] - 4s 14us/sample - loss: 1.0296 - accuracy: 0.4875 - val_loss: 1.0908 - val_accuracy: 0.4364\n",
      "Epoch 12/30\n",
      "284625/284625 [==============================] - 4s 14us/sample - loss: 1.0189 - accuracy: 0.4971 - val_loss: 1.0815 - val_accuracy: 0.4481\n",
      "Epoch 13/30\n",
      "284625/284625 [==============================] - 4s 14us/sample - loss: 1.0091 - accuracy: 0.5042 - val_loss: 1.0777 - val_accuracy: 0.4444\n",
      "Epoch 14/30\n",
      "284625/284625 [==============================] - 4s 14us/sample - loss: 0.9989 - accuracy: 0.5122 - val_loss: 1.0845 - val_accuracy: 0.4434\n",
      "Epoch 15/30\n",
      "284625/284625 [==============================] - 4s 14us/sample - loss: 0.9897 - accuracy: 0.5193 - val_loss: 1.0881 - val_accuracy: 0.4336\n",
      "Epoch 16/30\n",
      "284625/284625 [==============================] - 4s 14us/sample - loss: 0.9809 - accuracy: 0.5247 - val_loss: 1.0843 - val_accuracy: 0.4363\n",
      "Epoch 17/30\n",
      "284625/284625 [==============================] - 4s 14us/sample - loss: 0.9721 - accuracy: 0.5307 - val_loss: 1.0871 - val_accuracy: 0.4296\n",
      "Epoch 18/30\n",
      "284625/284625 [==============================] - 4s 15us/sample - loss: 0.9639 - accuracy: 0.5361 - val_loss: 1.0978 - val_accuracy: 0.4335\n",
      "Epoch 19/30\n",
      "284625/284625 [==============================] - 4s 14us/sample - loss: 0.9564 - accuracy: 0.5438 - val_loss: 1.0980 - val_accuracy: 0.4301\n",
      "Epoch 20/30\n",
      "284625/284625 [==============================] - 4s 14us/sample - loss: 0.9498 - accuracy: 0.5470 - val_loss: 1.1030 - val_accuracy: 0.4268\n",
      "Epoch 21/30\n",
      "284625/284625 [==============================] - 4s 15us/sample - loss: 0.9438 - accuracy: 0.5519 - val_loss: 1.1117 - val_accuracy: 0.4350\n",
      "Epoch 22/30\n",
      "284625/284625 [==============================] - 4s 15us/sample - loss: 0.9366 - accuracy: 0.5574 - val_loss: 1.1193 - val_accuracy: 0.4383\n",
      "Epoch 23/30\n",
      "284625/284625 [==============================] - 4s 14us/sample - loss: 0.9320 - accuracy: 0.5624 - val_loss: 1.1277 - val_accuracy: 0.4350\n",
      "Epoch 24/30\n",
      "284625/284625 [==============================] - 4s 14us/sample - loss: 0.9260 - accuracy: 0.5658 - val_loss: 1.1320 - val_accuracy: 0.4357\n",
      "Epoch 25/30\n",
      "284625/284625 [==============================] - 4s 15us/sample - loss: 0.9192 - accuracy: 0.5705 - val_loss: 1.1231 - val_accuracy: 0.4382\n",
      "Epoch 26/30\n",
      "284625/284625 [==============================] - 4s 16us/sample - loss: 0.9137 - accuracy: 0.5743 - val_loss: 1.1446 - val_accuracy: 0.4319\n",
      "Epoch 27/30\n",
      "284625/284625 [==============================] - 4s 16us/sample - loss: 0.9088 - accuracy: 0.5783 - val_loss: 1.1443 - val_accuracy: 0.4371\n",
      "Epoch 28/30\n",
      "284625/284625 [==============================] - 4s 15us/sample - loss: 0.9027 - accuracy: 0.5824 - val_loss: 1.1500 - val_accuracy: 0.4330\n",
      "Epoch 29/30\n",
      "284625/284625 [==============================] - 4s 15us/sample - loss: 0.8987 - accuracy: 0.5861 - val_loss: 1.1675 - val_accuracy: 0.4311\n",
      "Epoch 30/30\n",
      "284625/284625 [==============================] - 4s 15us/sample - loss: 0.8935 - accuracy: 0.5890 - val_loss: 1.1835 - val_accuracy: 0.4284\n"
     ]
    }
   ],
   "source": [
    "history = model.fit(train_x, train_y, epochs=30, batch_size=1024, validation_data=(val_x, val_y))"
   ]
  },
  {
   "cell_type": "code",
   "execution_count": 12,
   "metadata": {},
   "outputs": [
    {
     "data": {
      "image/png": "[encoded data removed]",
      "text/plain": [
       "<Figure size 432x288 with 1 Axes>"
      ]
     },
     "metadata": {
      "needs_background": "light"
     },
     "output_type": "display_data"
    },
    {
     "data": {
      "image/png": "[encoded data removed]",
      "text/plain": [
       "<Figure size 432x288 with 1 Axes>"
      ]
     },
     "metadata": {
      "needs_background": "light"
     },
     "output_type": "display_data"
    }
   ],
   "source": [
    "import matplotlib.pyplot as plt\n",
    "\n",
    "loss = plt.figure(1)\n",
    "history_loss = history.history['loss']\n",
    "history_val_loss = history.history['val_loss']\n",
    "epochs = range(len(history_loss))\n",
    "\n",
    "plt.plot(epochs, history_loss, 'ko', label='Training loss')\n",
    "plt.plot(epochs, history_val_loss, 'r', label='Validation loss')\n",
    "plt.title('Training and validation loss')\n",
    "plt.legend()\n",
    "\n",
    "loss = plt.figure(2)\n",
    "history_acc = history.history['accuracy']\n",
    "history_val_acc = history.history['val_accuracy']\n",
    "epochs = range(len(history_loss))\n",
    "\n",
    "plt.plot(epochs, history_acc, 'ko', label='Training acc')\n",
    "plt.plot(epochs, history_val_acc, 'b', label='Validation acc')\n",
    "plt.title('Training and validation loss')\n",
    "plt.legend()\n",
    "\n",
    "plt.show()"
   ]
  },
  {
   "cell_type": "code",
   "execution_count": 13,
   "metadata": {},
   "outputs": [
    {
     "name": "stdout",
     "output_type": "stream",
     "text": [
      "WARNING:tensorflow:From /home/bogdan8/anaconda3/envs/tf2.0-gpu/lib/python3.7/site-packages/tensorflow_core/python/ops/resource_variable_ops.py:1781: calling BaseResourceVariable.__init__ (from tensorflow.python.ops.resource_variable_ops) with constraint is deprecated and will be removed in a future version.\n",
      "Instructions for updating:\n",
      "If using Keras pass *_constraint arguments to layers.\n",
      "INFO:tensorflow:Assets written to: saved_model/assets\n"
     ]
    }
   ],
   "source": [
    "model.save('saved_model')"
   ]
  }
 ],
 "metadata": {
  "kernelspec": {
   "display_name": "Python 3",
   "language": "python",
   "name": "python3"
  },
  "language_info": {
   "codemirror_mode": {
    "name": "ipython",
    "version": 3
   },
   "file_extension": ".py",
   "mimetype": "text/x-python",
   "name": "python",
   "nbconvert_exporter": "python",
   "pygments_lexer": "ipython3",
   "version": "3.7.10"
  }
 },
 "nbformat": 4,
 "nbformat_minor": 4
}
