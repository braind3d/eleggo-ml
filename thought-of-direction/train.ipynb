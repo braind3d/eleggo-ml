{
 "cells": [
  {
   "cell_type": "markdown",
   "metadata": {},
   "source": [
    "# Train"
   ]
  },
  {
   "cell_type": "markdown",
   "metadata": {},
   "source": [
    "### Library setups and imports"
   ]
  },
  {
   "cell_type": "code",
   "execution_count": 1,
   "metadata": {
    "scrolled": true
   },
   "outputs": [],
   "source": [
    "import os\n",
    "import numpy as np\n",
    "import tensorflow as tf\n",
    "import random\n",
    "from tensorflow.keras.models import Sequential\n",
    "from tensorflow.keras.layers import Dense, Dropout, Flatten\n",
    "from tensorflow.keras.layers import Conv1D, MaxPooling1D"
   ]
  },
  {
   "cell_type": "markdown",
   "metadata": {},
   "source": [
    "### Parameters"
   ]
  },
  {
   "cell_type": "code",
   "execution_count": 2,
   "metadata": {},
   "outputs": [],
   "source": [
    "USE_DOWNLOADED_SET = True\n",
    "DOWNLOADED_SET_URL = 'https://hkinsley.com/static/downloads/bci/model_data_v2.7z'\n",
    "DATA_DIR = 'data/mask-iv-openbci' if USE_DOWNLOADED_SET else 'data/personal'\n",
    "LABELS = {\"left\": [1, 0, 0], \"none\": [0, 1, 0], \"right\": [0, 0, 1]}\n",
    "INPUT_SHAPE=(-1, 8, 60)"
   ]
  },
  {
   "cell_type": "markdown",
   "metadata": {},
   "source": [
    "### Data loading"
   ]
  },
  {
   "cell_type": "code",
   "execution_count": 3,
   "metadata": {},
   "outputs": [],
   "source": [
    "def generate_dataset(is_validation_data):\n",
    "    dataset = []\n",
    "    path = os.path.join(DATA_DIR)\n",
    "    subdir = 'validation_data/' if is_validation_data else 'data/'\n",
    "\n",
    "    for label in LABELS:\n",
    "        label_dir = os.path.join(path, subdir, label)\n",
    "        for FILE in os.listdir(label_dir):\n",
    "            if USE_DOWNLOADED_SET:\n",
    "                ffts = np.load(os.path.join(DATA_DIR, subdir, label, FILE))\n",
    "                for fft_data in ffts:\n",
    "                    dataset.append([fft_data[:8], LABELS[label]])\n",
    "            else:\n",
    "                fft_data = np.load(os.path.join(DATA_DIR, FILE))\n",
    "                dataset.append([fft_data[:8], label])\n",
    "        \n",
    "        random.shuffle(dataset)\n",
    "    return dataset"
   ]
  },
  {
   "cell_type": "code",
   "execution_count": 4,
   "metadata": {},
   "outputs": [],
   "source": [
    "training = generate_dataset(False)\n",
    "validation = generate_dataset(True)\n",
    "\n",
    "train_x = []\n",
    "train_y = []\n",
    "for x, y in training:\n",
    "    train_x.append(x)\n",
    "    train_y.append(y)\n",
    "    \n",
    "val_x = []\n",
    "val_y = []\n",
    "for x, y in validation:\n",
    "    val_x.append(x)\n",
    "    val_y.append(y)\n",
    "\n",
    "train_x = np.array(train_x).reshape(INPUT_SHAPE)\n",
    "val_x = np.array(val_x).reshape(INPUT_SHAPE)\n",
    "\n",
    "train_y = np.array(train_y)\n",
    "val_y = np.array(val_y)"
   ]
  },
  {
   "cell_type": "markdown",
   "metadata": {},
   "source": [
    "### Neural network definition"
   ]
  },
  {
   "cell_type": "code",
   "execution_count": 5,
   "metadata": {},
   "outputs": [],
   "source": [
    "model = Sequential([\n",
    "    Conv1D(32, (2), activation='relu', input_shape=train_x.shape[1:], padding='same'),\n",
    "    MaxPooling1D(pool_size=(2)),\n",
    "    Conv1D(128, (2), activation='relu', padding='same'),\n",
    "    MaxPooling1D(pool_size=(2)),\n",
    "    Conv1D(64, (4), activation='relu', padding='same'),\n",
    "    MaxPooling1D(pool_size=(2)),\n",
    "    Dropout(0.4),\n",
    "    Flatten(),\n",
    "    Dense(128, activation='relu', kernel_regularizer='l1'),\n",
    "    Dense(3, activation=tf.nn.softmax)\n",
    "])"
   ]
  },
  {
   "cell_type": "code",
   "execution_count": 6,
   "metadata": {},
   "outputs": [],
   "source": [
    "filepath=\"tmp/weights-improvement-{epoch:02d}-{val_accuracy:.2f}.hdf5\"\n",
    "model_checkpoint_callback = tf.keras.callbacks.ModelCheckpoint(\n",
    "    filepath=filepath,\n",
    "    save_weights_only=False,\n",
    "    monitor='val_accuracy',\n",
    "    mode='max',\n",
    "    save_best_only=True,\n",
    "    verbose=1)"
   ]
  },
  {
   "cell_type": "code",
   "execution_count": 7,
   "metadata": {},
   "outputs": [],
   "source": [
    "model.compile(loss='categorical_crossentropy',\n",
    "              optimizer=tf.keras.optimizers.Adam(learning_rate=0.0001),\n",
    "              metrics=['accuracy'])"
   ]
  },
  {
   "cell_type": "code",
   "execution_count": 8,
   "metadata": {},
   "outputs": [
    {
     "name": "stdout",
     "output_type": "stream",
     "text": [
      "Model: \"sequential\"\n",
      "_________________________________________________________________\n",
      "Layer (type)                 Output Shape              Param #   \n",
      "=================================================================\n",
      "conv1d (Conv1D)              (None, 8, 32)             3872      \n",
      "_________________________________________________________________\n",
      "max_pooling1d (MaxPooling1D) (None, 4, 32)             0         \n",
      "_________________________________________________________________\n",
      "conv1d_1 (Conv1D)            (None, 4, 128)            8320      \n",
      "_________________________________________________________________\n",
      "max_pooling1d_1 (MaxPooling1 (None, 2, 128)            0         \n",
      "_________________________________________________________________\n",
      "conv1d_2 (Conv1D)            (None, 2, 64)             32832     \n",
      "_________________________________________________________________\n",
      "max_pooling1d_2 (MaxPooling1 (None, 1, 64)             0         \n",
      "_________________________________________________________________\n",
      "dropout (Dropout)            (None, 1, 64)             0         \n",
      "_________________________________________________________________\n",
      "flatten (Flatten)            (None, 64)                0         \n",
      "_________________________________________________________________\n",
      "dense (Dense)                (None, 128)               8320      \n",
      "_________________________________________________________________\n",
      "dense_1 (Dense)              (None, 3)                 387       \n",
      "=================================================================\n",
      "Total params: 53,731\n",
      "Trainable params: 53,731\n",
      "Non-trainable params: 0\n",
      "_________________________________________________________________\n"
     ]
    }
   ],
   "source": [
    "model.summary()"
   ]
  },
  {
   "cell_type": "code",
   "execution_count": 10,
   "metadata": {},
   "outputs": [
    {
     "name": "stdout",
     "output_type": "stream",
     "text": [
      "Train on 284625 samples, validate on 35250 samples\n",
      "Epoch 1/30\n",
      "280576/284625 [============================>.] - ETA: 0s - loss: 5.3974 - accuracy: 0.4168\n",
      "Epoch 00001: val_accuracy improved from 0.33870 to 0.34221, saving model to tmp/weights-improvement-01-0.34.hdf5\n",
      "284625/284625 [==============================] - 3s 12us/sample - loss: 5.3853 - accuracy: 0.4168 - val_loss: 4.5886 - val_accuracy: 0.3422\n",
      "Epoch 2/30\n",
      "280576/284625 [============================>.] - ETA: 0s - loss: 3.8155 - accuracy: 0.4363\n",
      "Epoch 00002: val_accuracy improved from 0.34221 to 0.34698, saving model to tmp/weights-improvement-02-0.35.hdf5\n",
      "284625/284625 [==============================] - 3s 12us/sample - loss: 3.8061 - accuracy: 0.4364 - val_loss: 3.2144 - val_accuracy: 0.3470\n",
      "Epoch 3/30\n",
      "282624/284625 [============================>.] - ETA: 0s - loss: 2.5936 - accuracy: 0.4512\n",
      "Epoch 00003: val_accuracy improved from 0.34698 to 0.36462, saving model to tmp/weights-improvement-03-0.36.hdf5\n",
      "284625/284625 [==============================] - 3s 12us/sample - loss: 2.5902 - accuracy: 0.4513 - val_loss: 2.1856 - val_accuracy: 0.3646\n",
      "Epoch 4/30\n",
      "281600/284625 [============================>.] - ETA: 0s - loss: 1.7351 - accuracy: 0.4613\n",
      "Epoch 00004: val_accuracy improved from 0.36462 to 0.37081, saving model to tmp/weights-improvement-04-0.37.hdf5\n",
      "284625/284625 [==============================] - 4s 13us/sample - loss: 1.7319 - accuracy: 0.4612 - val_loss: 1.5089 - val_accuracy: 0.3708\n",
      "Epoch 5/30\n",
      "282624/284625 [============================>.] - ETA: 0s - loss: 1.2356 - accuracy: 0.4655\n",
      "Epoch 00005: val_accuracy improved from 0.37081 to 0.39007, saving model to tmp/weights-improvement-05-0.39.hdf5\n",
      "284625/284625 [==============================] - 4s 13us/sample - loss: 1.2347 - accuracy: 0.4654 - val_loss: 1.1834 - val_accuracy: 0.3901\n",
      "Epoch 6/30\n",
      "283648/284625 [============================>.] - ETA: 0s - loss: 1.0694 - accuracy: 0.4686\n",
      "Epoch 00006: val_accuracy improved from 0.39007 to 0.40982, saving model to tmp/weights-improvement-06-0.41.hdf5\n",
      "284625/284625 [==============================] - 4s 13us/sample - loss: 1.0693 - accuracy: 0.4687 - val_loss: 1.1463 - val_accuracy: 0.4098\n",
      "Epoch 7/30\n",
      "283648/284625 [============================>.] - ETA: 0s - loss: 1.0465 - accuracy: 0.4753\n",
      "Epoch 00007: val_accuracy improved from 0.40982 to 0.42199, saving model to tmp/weights-improvement-07-0.42.hdf5\n",
      "284625/284625 [==============================] - 4s 14us/sample - loss: 1.0464 - accuracy: 0.4752 - val_loss: 1.1311 - val_accuracy: 0.4220\n",
      "Epoch 8/30\n",
      "280576/284625 [============================>.] - ETA: 0s - loss: 1.0324 - accuracy: 0.4835\n",
      "Epoch 00008: val_accuracy improved from 0.42199 to 0.42704, saving model to tmp/weights-improvement-08-0.43.hdf5\n",
      "284625/284625 [==============================] - 4s 14us/sample - loss: 1.0324 - accuracy: 0.4835 - val_loss: 1.1264 - val_accuracy: 0.4270\n",
      "Epoch 9/30\n",
      "283648/284625 [============================>.] - ETA: 0s - loss: 1.0193 - accuracy: 0.4946\n",
      "Epoch 00009: val_accuracy improved from 0.42704 to 0.42740, saving model to tmp/weights-improvement-09-0.43.hdf5\n",
      "284625/284625 [==============================] - 4s 13us/sample - loss: 1.0194 - accuracy: 0.4946 - val_loss: 1.1258 - val_accuracy: 0.4274\n",
      "Epoch 10/30\n",
      "281600/284625 [============================>.] - ETA: 0s - loss: 1.0075 - accuracy: 0.5040\n",
      "Epoch 00010: val_accuracy improved from 0.42740 to 0.43367, saving model to tmp/weights-improvement-10-0.43.hdf5\n",
      "284625/284625 [==============================] - 4s 14us/sample - loss: 1.0076 - accuracy: 0.5039 - val_loss: 1.1177 - val_accuracy: 0.4337\n",
      "Epoch 11/30\n",
      "282624/284625 [============================>.] - ETA: 0s - loss: 0.9963 - accuracy: 0.5128\n",
      "Epoch 00011: val_accuracy did not improve from 0.43367\n",
      "284625/284625 [==============================] - 4s 14us/sample - loss: 0.9962 - accuracy: 0.5127 - val_loss: 1.1171 - val_accuracy: 0.4308\n",
      "Epoch 12/30\n",
      "282624/284625 [============================>.] - ETA: 0s - loss: 0.9863 - accuracy: 0.5199\n",
      "Epoch 00012: val_accuracy did not improve from 0.43367\n",
      "284625/284625 [==============================] - 4s 13us/sample - loss: 0.9862 - accuracy: 0.5199 - val_loss: 1.1280 - val_accuracy: 0.4239\n",
      "Epoch 13/30\n",
      "283648/284625 [============================>.] - ETA: 0s - loss: 0.9764 - accuracy: 0.5263\n",
      "Epoch 00013: val_accuracy did not improve from 0.43367\n",
      "284625/284625 [==============================] - 4s 13us/sample - loss: 0.9765 - accuracy: 0.5262 - val_loss: 1.1190 - val_accuracy: 0.4231\n",
      "Epoch 14/30\n",
      "280576/284625 [============================>.] - ETA: 0s - loss: 0.9685 - accuracy: 0.5327\n",
      "Epoch 00014: val_accuracy did not improve from 0.43367\n",
      "284625/284625 [==============================] - 4s 14us/sample - loss: 0.9684 - accuracy: 0.5328 - val_loss: 1.1197 - val_accuracy: 0.4197\n",
      "Epoch 15/30\n",
      "280576/284625 [============================>.] - ETA: 0s - loss: 0.9600 - accuracy: 0.5385\n",
      "Epoch 00015: val_accuracy did not improve from 0.43367\n",
      "284625/284625 [==============================] - 4s 14us/sample - loss: 0.9600 - accuracy: 0.5386 - val_loss: 1.1382 - val_accuracy: 0.4164\n",
      "Epoch 16/30\n",
      "283648/284625 [============================>.] - ETA: 0s - loss: 0.9528 - accuracy: 0.5431\n",
      "Epoch 00016: val_accuracy did not improve from 0.43367\n",
      "284625/284625 [==============================] - 4s 14us/sample - loss: 0.9528 - accuracy: 0.5431 - val_loss: 1.1452 - val_accuracy: 0.4157\n",
      "Epoch 17/30\n",
      "280576/284625 [============================>.] - ETA: 0s - loss: 0.9459 - accuracy: 0.5472\n",
      "Epoch 00017: val_accuracy did not improve from 0.43367\n",
      "284625/284625 [==============================] - 4s 14us/sample - loss: 0.9459 - accuracy: 0.5473 - val_loss: 1.1505 - val_accuracy: 0.4119\n",
      "Epoch 18/30\n",
      "281600/284625 [============================>.] - ETA: 0s - loss: 0.9390 - accuracy: 0.5525\n",
      "Epoch 00018: val_accuracy did not improve from 0.43367\n",
      "284625/284625 [==============================] - 4s 14us/sample - loss: 0.9389 - accuracy: 0.5526 - val_loss: 1.1795 - val_accuracy: 0.4094\n",
      "Epoch 19/30\n",
      "283648/284625 [============================>.] - ETA: 0s - loss: 0.9323 - accuracy: 0.5564\n",
      "Epoch 00019: val_accuracy did not improve from 0.43367\n",
      "284625/284625 [==============================] - 4s 13us/sample - loss: 0.9322 - accuracy: 0.5564 - val_loss: 1.1775 - val_accuracy: 0.4122\n",
      "Epoch 20/30\n",
      "280576/284625 [============================>.] - ETA: 0s - loss: 0.9265 - accuracy: 0.5614\n",
      "Epoch 00020: val_accuracy did not improve from 0.43367\n",
      "284625/284625 [==============================] - 4s 14us/sample - loss: 0.9268 - accuracy: 0.5612 - val_loss: 1.2075 - val_accuracy: 0.4083\n",
      "Epoch 21/30\n",
      "281600/284625 [============================>.] - ETA: 0s - loss: 0.9200 - accuracy: 0.5649\n",
      "Epoch 00021: val_accuracy did not improve from 0.43367\n",
      "284625/284625 [==============================] - 4s 14us/sample - loss: 0.9201 - accuracy: 0.5649 - val_loss: 1.1976 - val_accuracy: 0.4121\n",
      "Epoch 22/30\n",
      "280576/284625 [============================>.] - ETA: 0s - loss: 0.9138 - accuracy: 0.5696\n",
      "Epoch 00022: val_accuracy did not improve from 0.43367\n",
      "284625/284625 [==============================] - 4s 14us/sample - loss: 0.9137 - accuracy: 0.5696 - val_loss: 1.2041 - val_accuracy: 0.4154\n",
      "Epoch 23/30\n",
      "282624/284625 [============================>.] - ETA: 0s - loss: 0.9085 - accuracy: 0.5738\n",
      "Epoch 00023: val_accuracy did not improve from 0.43367\n",
      "284625/284625 [==============================] - 4s 14us/sample - loss: 0.9085 - accuracy: 0.5738 - val_loss: 1.2225 - val_accuracy: 0.4133\n",
      "Epoch 24/30\n",
      "283648/284625 [============================>.] - ETA: 0s - loss: 0.9029 - accuracy: 0.5767\n",
      "Epoch 00024: val_accuracy did not improve from 0.43367\n",
      "284625/284625 [==============================] - 4s 14us/sample - loss: 0.9029 - accuracy: 0.5766 - val_loss: 1.2427 - val_accuracy: 0.4184\n",
      "Epoch 25/30\n",
      "283648/284625 [============================>.] - ETA: 0s - loss: 0.8972 - accuracy: 0.5815\n",
      "Epoch 00025: val_accuracy did not improve from 0.43367\n",
      "284625/284625 [==============================] - 4s 14us/sample - loss: 0.8973 - accuracy: 0.5814 - val_loss: 1.2582 - val_accuracy: 0.4165\n",
      "Epoch 26/30\n",
      "282624/284625 [============================>.] - ETA: 0s - loss: 0.8919 - accuracy: 0.5841\n",
      "Epoch 00026: val_accuracy did not improve from 0.43367\n",
      "284625/284625 [==============================] - 4s 14us/sample - loss: 0.8918 - accuracy: 0.5843 - val_loss: 1.2916 - val_accuracy: 0.4149\n"
     ]
    },
    {
     "name": "stdout",
     "output_type": "stream",
     "text": [
      "Epoch 27/30\n",
      "282624/284625 [============================>.] - ETA: 0s - loss: 0.8872 - accuracy: 0.5882\n",
      "Epoch 00027: val_accuracy did not improve from 0.43367\n",
      "284625/284625 [==============================] - 4s 13us/sample - loss: 0.8871 - accuracy: 0.5882 - val_loss: 1.2586 - val_accuracy: 0.4163\n",
      "Epoch 28/30\n",
      "280576/284625 [============================>.] - ETA: 0s - loss: 0.8814 - accuracy: 0.5907\n",
      "Epoch 00028: val_accuracy did not improve from 0.43367\n",
      "284625/284625 [==============================] - 4s 14us/sample - loss: 0.8813 - accuracy: 0.5910 - val_loss: 1.3407 - val_accuracy: 0.4128\n",
      "Epoch 29/30\n",
      "283648/284625 [============================>.] - ETA: 0s - loss: 0.8752 - accuracy: 0.5965\n",
      "Epoch 00029: val_accuracy did not improve from 0.43367\n",
      "284625/284625 [==============================] - 4s 14us/sample - loss: 0.8751 - accuracy: 0.5966 - val_loss: 1.3239 - val_accuracy: 0.4142\n",
      "Epoch 30/30\n",
      "280576/284625 [============================>.] - ETA: 0s - loss: 0.8719 - accuracy: 0.5980\n",
      "Epoch 00030: val_accuracy did not improve from 0.43367\n",
      "284625/284625 [==============================] - 4s 14us/sample - loss: 0.8716 - accuracy: 0.5981 - val_loss: 1.3408 - val_accuracy: 0.4107\n"
     ]
    }
   ],
   "source": [
    "history = model.fit(train_x, train_y, epochs=30, batch_size=1024, validation_data=(val_x, val_y), callbacks=[model_checkpoint_callback])"
   ]
  },
  {
   "cell_type": "code",
   "execution_count": 11,
   "metadata": {},
   "outputs": [
    {
     "data": {
      "image/png": "[encoded data removed]",
      "text/plain": [
       "<Figure size 432x288 with 1 Axes>"
      ]
     },
     "metadata": {
      "needs_background": "light"
     },
     "output_type": "display_data"
    },
    {
     "data": {
      "image/png": "[encoded data removed]",
      "text/plain": [
       "<Figure size 432x288 with 1 Axes>"
      ]
     },
     "metadata": {
      "needs_background": "light"
     },
     "output_type": "display_data"
    }
   ],
   "source": [
    "import matplotlib.pyplot as plt\n",
    "\n",
    "loss = plt.figure(1)\n",
    "history_loss = history.history['loss']\n",
    "history_val_loss = history.history['val_loss']\n",
    "epochs = range(len(history_loss))\n",
    "\n",
    "plt.plot(epochs, history_loss, 'ko', label='Training loss')\n",
    "plt.plot(epochs, history_val_loss, 'r', label='Validation loss')\n",
    "plt.title('Training and validation loss')\n",
    "plt.legend()\n",
    "\n",
    "loss = plt.figure(2)\n",
    "history_acc = history.history['accuracy']\n",
    "history_val_acc = history.history['val_accuracy']\n",
    "epochs = range(len(history_loss))\n",
    "\n",
    "plt.plot(epochs, history_acc, 'ko', label='Training acc')\n",
    "plt.plot(epochs, history_val_acc, 'b', label='Validation acc')\n",
    "plt.title('Training and validation loss')\n",
    "plt.legend()\n",
    "\n",
    "plt.show()"
   ]
  },
  {
   "cell_type": "code",
   "execution_count": 12,
   "metadata": {},
   "outputs": [
    {
     "name": "stdout",
     "output_type": "stream",
     "text": [
      "WARNING:tensorflow:From /home/bogdan8/anaconda3/envs/tf2.0-gpu/lib/python3.7/site-packages/tensorflow_core/python/ops/resource_variable_ops.py:1781: calling BaseResourceVariable.__init__ (from tensorflow.python.ops.resource_variable_ops) with constraint is deprecated and will be removed in a future version.\n",
      "Instructions for updating:\n",
      "If using Keras pass *_constraint arguments to layers.\n",
      "INFO:tensorflow:Assets written to: thought_of_direction/assets\n"
     ]
    }
   ],
   "source": [
    "model.save('thought_of_direction')"
   ]
  }
 ],
 "metadata": {
  "kernelspec": {
   "display_name": "Python 3",
   "language": "python",
   "name": "python3"
  },
  "language_info": {
   "codemirror_mode": {
    "name": "ipython",
    "version": 3
   },
   "file_extension": ".py",
   "mimetype": "text/x-python",
   "name": "python",
   "nbconvert_exporter": "python",
   "pygments_lexer": "ipython3",
   "version": "3.7.10"
  }
 },
 "nbformat": 4,
 "nbformat_minor": 4
}
