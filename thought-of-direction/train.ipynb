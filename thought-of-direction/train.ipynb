{
 "cells": [
  {
   "cell_type": "markdown",
   "metadata": {},
   "source": [
    "# Train"
   ]
  },
  {
   "cell_type": "markdown",
   "metadata": {},
   "source": [
    "### Library setups and imports"
   ]
  },
  {
   "cell_type": "code",
   "execution_count": 1,
   "metadata": {
    "scrolled": true
   },
   "outputs": [
    {
     "name": "stderr",
     "output_type": "stream",
     "text": [
      "2021-10-28 21:05:44.015060: W tensorflow/stream_executor/platform/default/dso_loader.cc:64] Could not load dynamic library 'libcudart.so.11.0'; dlerror: libcudart.so.11.0: cannot open shared object file: No such file or directory\n",
      "2021-10-28 21:05:44.015076: I tensorflow/stream_executor/cuda/cudart_stub.cc:29] Ignore above cudart dlerror if you do not have a GPU set up on your machine.\n"
     ]
    }
   ],
   "source": [
    "import os\n",
    "import numpy as np\n",
    "import tensorflow as tf\n",
    "import tensorflowjs as tfjs\n",
    "import matplotlib.pyplot as plt\n",
    "import random\n",
    "from tensorflow.keras.models import Sequential\n",
    "from tensorflow.keras.layers import Dense, Dropout, Flatten\n",
    "from tensorflow.keras.layers import Conv1D, MaxPooling1D"
   ]
  },
  {
   "cell_type": "markdown",
   "metadata": {},
   "source": [
    "### Parameters"
   ]
  },
  {
   "cell_type": "code",
   "execution_count": 2,
   "metadata": {},
   "outputs": [],
   "source": [
    "USE_DOWNLOADED_SET = True\n",
    "DOWNLOADED_SET_URL = 'https://hkinsley.com/static/downloads/bci/model_data_v2.7z'\n",
    "DATA_DIR = 'data/mask-iv-openbci' if USE_DOWNLOADED_SET else 'data/personal'\n",
    "LABELS = {\"left\": [1, 0, 0], \"none\": [0, 1, 0], \"right\": [0, 0, 1]}\n",
    "INPUT_SHAPE=(-1, 8, 60)"
   ]
  },
  {
   "cell_type": "markdown",
   "metadata": {},
   "source": [
    "### Data loading"
   ]
  },
  {
   "cell_type": "code",
   "execution_count": 3,
   "metadata": {},
   "outputs": [],
   "source": [
    "def generate_dataset(is_validation_data):\n",
    "    dataset = []\n",
    "    path = os.path.join(DATA_DIR)\n",
    "    subdir = 'validation_data/' if is_validation_data else 'data/'\n",
    "\n",
    "    for label in LABELS:\n",
    "        label_dir = os.path.join(path, subdir, label)\n",
    "        for FILE in os.listdir(label_dir):\n",
    "            if USE_DOWNLOADED_SET:\n",
    "                ffts = np.load(os.path.join(DATA_DIR, subdir, label, FILE))\n",
    "                for fft_data in ffts:\n",
    "                    dataset.append([fft_data[:8], LABELS[label]])\n",
    "            else:\n",
    "                fft_data = np.load(os.path.join(DATA_DIR, FILE))\n",
    "                dataset.append([fft_data[:8], label])\n",
    "        \n",
    "        random.shuffle(dataset)\n",
    "    return dataset"
   ]
  },
  {
   "cell_type": "code",
   "execution_count": 4,
   "metadata": {},
   "outputs": [],
   "source": [
    "training = generate_dataset(False)\n",
    "validation = generate_dataset(True)\n",
    "\n",
    "train_x = []\n",
    "train_y = []\n",
    "for x, y in training:\n",
    "    train_x.append(x)\n",
    "    train_y.append(y)\n",
    "    \n",
    "val_x = []\n",
    "val_y = []\n",
    "for x, y in validation:\n",
    "    val_x.append(x)\n",
    "    val_y.append(y)\n",
    "\n",
    "train_x = np.array(train_x).reshape(INPUT_SHAPE)\n",
    "val_x = np.array(val_x).reshape(INPUT_SHAPE)\n",
    "\n",
    "train_y = np.array(train_y)\n",
    "val_y = np.array(val_y)"
   ]
  },
  {
   "cell_type": "markdown",
   "metadata": {},
   "source": [
    "### Neural network definition"
   ]
  },
  {
   "cell_type": "code",
   "execution_count": 5,
   "metadata": {},
   "outputs": [
    {
     "name": "stderr",
     "output_type": "stream",
     "text": [
      "2021-10-28 21:05:52.286764: I tensorflow/stream_executor/cuda/cuda_gpu_executor.cc:937] successful NUMA node read from SysFS had negative value (-1), but there must be at least one NUMA node, so returning NUMA node zero\n",
      "2021-10-28 21:05:52.287138: W tensorflow/stream_executor/platform/default/dso_loader.cc:64] Could not load dynamic library 'libcudart.so.11.0'; dlerror: libcudart.so.11.0: cannot open shared object file: No such file or directory\n",
      "2021-10-28 21:05:52.287180: W tensorflow/stream_executor/platform/default/dso_loader.cc:64] Could not load dynamic library 'libcublas.so.11'; dlerror: libcublas.so.11: cannot open shared object file: No such file or directory\n",
      "2021-10-28 21:05:52.287218: W tensorflow/stream_executor/platform/default/dso_loader.cc:64] Could not load dynamic library 'libcublasLt.so.11'; dlerror: libcublasLt.so.11: cannot open shared object file: No such file or directory\n",
      "2021-10-28 21:05:52.287256: W tensorflow/stream_executor/platform/default/dso_loader.cc:64] Could not load dynamic library 'libcufft.so.10'; dlerror: libcufft.so.10: cannot open shared object file: No such file or directory\n",
      "2021-10-28 21:05:52.287294: W tensorflow/stream_executor/platform/default/dso_loader.cc:64] Could not load dynamic library 'libcurand.so.10'; dlerror: libcurand.so.10: cannot open shared object file: No such file or directory\n",
      "2021-10-28 21:05:52.287332: W tensorflow/stream_executor/platform/default/dso_loader.cc:64] Could not load dynamic library 'libcusolver.so.11'; dlerror: libcusolver.so.11: cannot open shared object file: No such file or directory\n",
      "2021-10-28 21:05:52.287368: W tensorflow/stream_executor/platform/default/dso_loader.cc:64] Could not load dynamic library 'libcusparse.so.11'; dlerror: libcusparse.so.11: cannot open shared object file: No such file or directory\n",
      "2021-10-28 21:05:52.287405: W tensorflow/stream_executor/platform/default/dso_loader.cc:64] Could not load dynamic library 'libcudnn.so.8'; dlerror: libcudnn.so.8: cannot open shared object file: No such file or directory\n",
      "2021-10-28 21:05:52.287412: W tensorflow/core/common_runtime/gpu/gpu_device.cc:1835] Cannot dlopen some GPU libraries. Please make sure the missing libraries mentioned above are installed properly if you would like to use GPU. Follow the guide at https://www.tensorflow.org/install/gpu for how to download and setup the required libraries for your platform.\n",
      "Skipping registering GPU devices...\n",
      "2021-10-28 21:05:52.287601: I tensorflow/core/platform/cpu_feature_guard.cc:142] This TensorFlow binary is optimized with oneAPI Deep Neural Network Library (oneDNN) to use the following CPU instructions in performance-critical operations:  AVX2 FMA\n",
      "To enable them in other operations, rebuild TensorFlow with the appropriate compiler flags.\n"
     ]
    }
   ],
   "source": [
    "model = Sequential([\n",
    "    Conv1D(32, (2), activation='relu', input_shape=train_x.shape[1:], padding='same'),\n",
    "    MaxPooling1D(pool_size=(2)),\n",
    "    Conv1D(128, (2), activation='relu', padding='same'),\n",
    "    MaxPooling1D(pool_size=(2)),\n",
    "    Conv1D(64, (4), activation='relu', padding='same'),\n",
    "    MaxPooling1D(pool_size=(2)),\n",
    "    Dropout(0.4),\n",
    "    Flatten(),\n",
    "    Dense(128, activation='relu', kernel_regularizer='l1'),\n",
    "    Dense(3, activation=tf.nn.softmax)\n",
    "])"
   ]
  },
  {
   "cell_type": "code",
   "execution_count": 6,
   "metadata": {},
   "outputs": [],
   "source": [
    "filepath=\"tmp/weights-improvement-{epoch:02d}-{val_accuracy:.2f}.hdf5\"\n",
    "model_checkpoint_callback = tf.keras.callbacks.ModelCheckpoint(\n",
    "    filepath=filepath,\n",
    "    save_weights_only=False,\n",
    "    monitor='val_accuracy',\n",
    "    mode='max',\n",
    "    save_best_only=True,\n",
    "    verbose=1)"
   ]
  },
  {
   "cell_type": "code",
   "execution_count": 7,
   "metadata": {},
   "outputs": [],
   "source": [
    "model.compile(loss='categorical_crossentropy',\n",
    "              optimizer=tf.keras.optimizers.Adam(learning_rate=0.0001),\n",
    "              metrics=['accuracy'])"
   ]
  },
  {
   "cell_type": "code",
   "execution_count": 8,
   "metadata": {},
   "outputs": [
    {
     "name": "stdout",
     "output_type": "stream",
     "text": [
      "Model: \"sequential\"\n",
      "_________________________________________________________________\n",
      "Layer (type)                 Output Shape              Param #   \n",
      "=================================================================\n",
      "conv1d (Conv1D)              (None, 8, 32)             3872      \n",
      "_________________________________________________________________\n",
      "max_pooling1d (MaxPooling1D) (None, 4, 32)             0         \n",
      "_________________________________________________________________\n",
      "conv1d_1 (Conv1D)            (None, 4, 128)            8320      \n",
      "_________________________________________________________________\n",
      "max_pooling1d_1 (MaxPooling1 (None, 2, 128)            0         \n",
      "_________________________________________________________________\n",
      "conv1d_2 (Conv1D)            (None, 2, 64)             32832     \n",
      "_________________________________________________________________\n",
      "max_pooling1d_2 (MaxPooling1 (None, 1, 64)             0         \n",
      "_________________________________________________________________\n",
      "dropout (Dropout)            (None, 1, 64)             0         \n",
      "_________________________________________________________________\n",
      "flatten (Flatten)            (None, 64)                0         \n",
      "_________________________________________________________________\n",
      "dense (Dense)                (None, 128)               8320      \n",
      "_________________________________________________________________\n",
      "dense_1 (Dense)              (None, 3)                 387       \n",
      "=================================================================\n",
      "Total params: 53,731\n",
      "Trainable params: 53,731\n",
      "Non-trainable params: 0\n",
      "_________________________________________________________________\n"
     ]
    }
   ],
   "source": [
    "model.summary()"
   ]
  },
  {
   "cell_type": "code",
   "execution_count": 9,
   "metadata": {},
   "outputs": [
    {
     "name": "stderr",
     "output_type": "stream",
     "text": [
      "2021-10-28 21:05:53.169101: W tensorflow/core/framework/cpu_allocator_impl.cc:80] Allocation of 546480000 exceeds 10% of free system memory.\n",
      "2021-10-28 21:05:53.628546: I tensorflow/compiler/mlir/mlir_graph_optimization_pass.cc:185] None of the MLIR Optimization Passes are enabled (registered 2)\n"
     ]
    },
    {
     "name": "stdout",
     "output_type": "stream",
     "text": [
      "Epoch 1/30\n",
      "277/278 [============================>.] - ETA: 0s - loss: 7.2949 - accuracy: 0.3817"
     ]
    },
    {
     "name": "stderr",
     "output_type": "stream",
     "text": [
      "2021-10-28 21:05:56.952528: W tensorflow/core/framework/cpu_allocator_impl.cc:80] Allocation of 67680000 exceeds 10% of free system memory.\n"
     ]
    },
    {
     "name": "stdout",
     "output_type": "stream",
     "text": [
      "278/278 [==============================] - 3s 11ms/step - loss: 7.2914 - accuracy: 0.3817 - val_loss: 6.3101 - val_accuracy: 0.3532\n",
      "\n",
      "Epoch 00001: val_accuracy improved from -inf to 0.35316, saving model to tmp/weights-improvement-01-0.35.hdf5\n",
      "Epoch 2/30\n",
      "278/278 [==============================] - 3s 9ms/step - loss: 5.3676 - accuracy: 0.4234 - val_loss: 4.6046 - val_accuracy: 0.3471\n",
      "\n",
      "Epoch 00002: val_accuracy did not improve from 0.35316\n",
      "Epoch 3/30\n",
      "278/278 [==============================] - 3s 9ms/step - loss: 3.7916 - accuracy: 0.4424 - val_loss: 3.2183 - val_accuracy: 0.3608\n",
      "\n",
      "Epoch 00003: val_accuracy improved from 0.35316 to 0.36082, saving model to tmp/weights-improvement-03-0.36.hdf5\n",
      "Epoch 4/30\n",
      "278/278 [==============================] - 3s 9ms/step - loss: 2.5713 - accuracy: 0.4601 - val_loss: 2.1848 - val_accuracy: 0.3808\n",
      "\n",
      "Epoch 00004: val_accuracy improved from 0.36082 to 0.38082, saving model to tmp/weights-improvement-04-0.38.hdf5\n",
      "Epoch 5/30\n",
      "278/278 [==============================] - 3s 9ms/step - loss: 1.7160 - accuracy: 0.4716 - val_loss: 1.4988 - val_accuracy: 0.3990\n",
      "\n",
      "Epoch 00005: val_accuracy improved from 0.38082 to 0.39901, saving model to tmp/weights-improvement-05-0.40.hdf5\n",
      "Epoch 6/30\n",
      "278/278 [==============================] - 3s 10ms/step - loss: 1.2231 - accuracy: 0.4780 - val_loss: 1.1711 - val_accuracy: 0.4102\n",
      "\n",
      "Epoch 00006: val_accuracy improved from 0.39901 to 0.41018, saving model to tmp/weights-improvement-06-0.41.hdf5\n",
      "Epoch 7/30\n",
      "278/278 [==============================] - 3s 10ms/step - loss: 1.0625 - accuracy: 0.4788 - val_loss: 1.1308 - val_accuracy: 0.4239\n",
      "\n",
      "Epoch 00007: val_accuracy improved from 0.41018 to 0.42394, saving model to tmp/weights-improvement-07-0.42.hdf5\n",
      "Epoch 8/30\n",
      "278/278 [==============================] - 3s 10ms/step - loss: 1.0406 - accuracy: 0.4848 - val_loss: 1.1133 - val_accuracy: 0.4326\n",
      "\n",
      "Epoch 00008: val_accuracy improved from 0.42394 to 0.43260, saving model to tmp/weights-improvement-08-0.43.hdf5\n",
      "Epoch 9/30\n",
      "278/278 [==============================] - 3s 10ms/step - loss: 1.0279 - accuracy: 0.4925 - val_loss: 1.0978 - val_accuracy: 0.4478\n",
      "\n",
      "Epoch 00009: val_accuracy improved from 0.43260 to 0.44780, saving model to tmp/weights-improvement-09-0.45.hdf5\n",
      "Epoch 10/30\n",
      "278/278 [==============================] - 3s 10ms/step - loss: 1.0164 - accuracy: 0.5020 - val_loss: 1.0866 - val_accuracy: 0.4403\n",
      "\n",
      "Epoch 00010: val_accuracy did not improve from 0.44780\n",
      "Epoch 11/30\n",
      "278/278 [==============================] - 3s 9ms/step - loss: 1.0052 - accuracy: 0.5106 - val_loss: 1.0797 - val_accuracy: 0.4439\n",
      "\n",
      "Epoch 00011: val_accuracy did not improve from 0.44780\n",
      "Epoch 12/30\n",
      "278/278 [==============================] - 3s 9ms/step - loss: 0.9951 - accuracy: 0.5186 - val_loss: 1.0828 - val_accuracy: 0.4453\n",
      "\n",
      "Epoch 00012: val_accuracy did not improve from 0.44780\n",
      "Epoch 13/30\n",
      "278/278 [==============================] - 3s 9ms/step - loss: 0.9841 - accuracy: 0.5252 - val_loss: 1.0863 - val_accuracy: 0.4433\n",
      "\n",
      "Epoch 00013: val_accuracy did not improve from 0.44780\n",
      "Epoch 14/30\n",
      "278/278 [==============================] - 3s 10ms/step - loss: 0.9754 - accuracy: 0.5322 - val_loss: 1.0951 - val_accuracy: 0.4383\n",
      "\n",
      "Epoch 00014: val_accuracy did not improve from 0.44780\n",
      "Epoch 15/30\n",
      "278/278 [==============================] - 3s 9ms/step - loss: 0.9674 - accuracy: 0.5386 - val_loss: 1.0973 - val_accuracy: 0.4409\n",
      "\n",
      "Epoch 00015: val_accuracy did not improve from 0.44780\n",
      "Epoch 16/30\n",
      "278/278 [==============================] - 3s 9ms/step - loss: 0.9584 - accuracy: 0.5449 - val_loss: 1.1104 - val_accuracy: 0.4351\n",
      "\n",
      "Epoch 00016: val_accuracy did not improve from 0.44780\n",
      "Epoch 17/30\n",
      "278/278 [==============================] - 3s 9ms/step - loss: 0.9504 - accuracy: 0.5496 - val_loss: 1.1190 - val_accuracy: 0.4313\n",
      "\n",
      "Epoch 00017: val_accuracy did not improve from 0.44780\n",
      "Epoch 18/30\n",
      "278/278 [==============================] - 3s 9ms/step - loss: 0.9437 - accuracy: 0.5550 - val_loss: 1.1163 - val_accuracy: 0.4386\n",
      "\n",
      "Epoch 00018: val_accuracy did not improve from 0.44780\n",
      "Epoch 19/30\n",
      "278/278 [==============================] - 3s 9ms/step - loss: 0.9363 - accuracy: 0.5608 - val_loss: 1.1243 - val_accuracy: 0.4335\n",
      "\n",
      "Epoch 00019: val_accuracy did not improve from 0.44780\n",
      "Epoch 20/30\n",
      "278/278 [==============================] - 3s 10ms/step - loss: 0.9287 - accuracy: 0.5647 - val_loss: 1.1339 - val_accuracy: 0.4288\n",
      "\n",
      "Epoch 00020: val_accuracy did not improve from 0.44780\n",
      "Epoch 21/30\n",
      "278/278 [==============================] - 3s 10ms/step - loss: 0.9231 - accuracy: 0.5701 - val_loss: 1.1433 - val_accuracy: 0.4300\n",
      "\n",
      "Epoch 00021: val_accuracy did not improve from 0.44780\n",
      "Epoch 22/30\n",
      "278/278 [==============================] - 3s 10ms/step - loss: 0.9153 - accuracy: 0.5749 - val_loss: 1.1498 - val_accuracy: 0.4289\n",
      "\n",
      "Epoch 00022: val_accuracy did not improve from 0.44780\n",
      "Epoch 23/30\n",
      "278/278 [==============================] - 3s 9ms/step - loss: 0.9108 - accuracy: 0.5779 - val_loss: 1.1526 - val_accuracy: 0.4265\n",
      "\n",
      "Epoch 00023: val_accuracy did not improve from 0.44780\n",
      "Epoch 24/30\n",
      "278/278 [==============================] - 3s 10ms/step - loss: 0.9035 - accuracy: 0.5828 - val_loss: 1.1753 - val_accuracy: 0.4214\n",
      "\n",
      "Epoch 00024: val_accuracy did not improve from 0.44780\n",
      "Epoch 25/30\n",
      "278/278 [==============================] - 3s 10ms/step - loss: 0.8980 - accuracy: 0.5876 - val_loss: 1.1645 - val_accuracy: 0.4230\n",
      "\n",
      "Epoch 00025: val_accuracy did not improve from 0.44780\n",
      "Epoch 26/30\n",
      "278/278 [==============================] - 3s 10ms/step - loss: 0.8913 - accuracy: 0.5911 - val_loss: 1.1845 - val_accuracy: 0.4200\n",
      "\n",
      "Epoch 00026: val_accuracy did not improve from 0.44780\n",
      "Epoch 27/30\n",
      "278/278 [==============================] - 3s 10ms/step - loss: 0.8852 - accuracy: 0.5951 - val_loss: 1.1850 - val_accuracy: 0.4216\n",
      "\n",
      "Epoch 00027: val_accuracy did not improve from 0.44780\n",
      "Epoch 28/30\n",
      "278/278 [==============================] - 3s 11ms/step - loss: 0.8794 - accuracy: 0.5993 - val_loss: 1.2041 - val_accuracy: 0.4207\n",
      "\n",
      "Epoch 00028: val_accuracy did not improve from 0.44780\n",
      "Epoch 29/30\n",
      "278/278 [==============================] - 3s 11ms/step - loss: 0.8751 - accuracy: 0.6029 - val_loss: 1.2020 - val_accuracy: 0.4227\n",
      "\n",
      "Epoch 00029: val_accuracy did not improve from 0.44780\n",
      "Epoch 30/30\n",
      "278/278 [==============================] - 3s 9ms/step - loss: 0.8681 - accuracy: 0.6078 - val_loss: 1.2202 - val_accuracy: 0.4191\n",
      "\n",
      "Epoch 00030: val_accuracy did not improve from 0.44780\n"
     ]
    }
   ],
   "source": [
    "with tf.device('/CPU:0'):\n",
    "    history = model.fit(train_x, train_y, epochs=30, batch_size=1024, validation_data=(val_x, val_y), callbacks=[model_checkpoint_callback])"
   ]
  },
  {
   "cell_type": "code",
   "execution_count": 10,
   "metadata": {},
   "outputs": [
    {
     "data": {
      "image/png": "[encoded data removed]",
      "text/plain": [
       "<Figure size 432x288 with 1 Axes>"
      ]
     },
     "metadata": {
      "needs_background": "light"
     },
     "output_type": "display_data"
    },
    {
     "data": {
      "image/png": "[encoded data removed]",
      "text/plain": [
       "<Figure size 432x288 with 1 Axes>"
      ]
     },
     "metadata": {
      "needs_background": "light"
     },
     "output_type": "display_data"
    }
   ],
   "source": [
    "loss = plt.figure(1)\n",
    "history_loss = history.history['loss']\n",
    "history_val_loss = history.history['val_loss']\n",
    "epochs = range(len(history_loss))\n",
    "\n",
    "plt.plot(epochs, history_loss, 'ko', label='Training loss')\n",
    "plt.plot(epochs, history_val_loss, 'r', label='Validation loss')\n",
    "plt.title('Training and validation loss')\n",
    "plt.legend()\n",
    "\n",
    "loss = plt.figure(2)\n",
    "history_acc = history.history['accuracy']\n",
    "history_val_acc = history.history['val_accuracy']\n",
    "epochs = range(len(history_loss))\n",
    "\n",
    "plt.plot(epochs, history_acc, 'ko', label='Training acc')\n",
    "plt.plot(epochs, history_val_acc, 'b', label='Validation acc')\n",
    "plt.title('Training and validation loss')\n",
    "plt.legend()\n",
    "\n",
    "plt.show()"
   ]
  },
  {
   "cell_type": "code",
   "execution_count": 12,
   "metadata": {},
   "outputs": [
    {
     "name": "stdout",
     "output_type": "stream",
     "text": [
      "INFO:tensorflow:Assets written to: models/tf/assets\n"
     ]
    }
   ],
   "source": [
    "model.save('models/tf')\n",
    "tfjs.converters.save_keras_model(model, 'models/tfjs')"
   ]
  }
 ],
 "metadata": {
  "interpreter": {
   "hash": "1f8f6243ed687cacbd53bdd3cd0b28cdb1fc62ffa9e4089f8cc714402ebc23b6"
  },
  "kernelspec": {
   "display_name": "Python 3 (ipykernel)",
   "language": "python",
   "name": "python3"
  },
  "language_info": {
   "codemirror_mode": {
    "name": "ipython",
    "version": 3
   },
   "file_extension": ".py",
   "mimetype": "text/x-python",
   "name": "python",
   "nbconvert_exporter": "python",
   "pygments_lexer": "ipython3",
   "version": "3.9.7"
  }
 },
 "nbformat": 4,
 "nbformat_minor": 4
}
