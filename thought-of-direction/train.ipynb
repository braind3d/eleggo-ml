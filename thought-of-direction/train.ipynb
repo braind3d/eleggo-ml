{
 "cells": [
  {
   "cell_type": "markdown",
   "metadata": {},
   "source": [
    "# Train"
   ]
  },
  {
   "cell_type": "markdown",
   "metadata": {},
   "source": [
    "### Library setups and imports"
   ]
  },
  {
   "cell_type": "code",
   "execution_count": 45,
   "metadata": {
    "scrolled": true
   },
   "outputs": [],
   "source": [
    "import os\n",
    "import numpy as np\n",
    "import tensorflow as tf\n",
    "import random\n",
    "from tensorflow.keras.models import Sequential\n",
    "from tensorflow.keras.layers import Dense, Dropout, Flatten\n",
    "from tensorflow.keras.layers import Conv1D, MaxPooling1D"
   ]
  },
  {
   "cell_type": "markdown",
   "metadata": {},
   "source": [
    "### Parameters"
   ]
  },
  {
   "cell_type": "code",
   "execution_count": 5,
   "metadata": {},
   "outputs": [],
   "source": [
    "USE_DOWNLOADED_SET = True\n",
    "DOWNLOADED_SET_URL = 'https://hkinsley.com/static/downloads/bci/model_data_v2.7z'\n",
    "DATA_DIR = 'data/mask-iv-openbci' if USE_DOWNLOADED_SET else 'data/personal'\n",
    "LABELS = {\"left\": [1, 0, 0], \"none\": [0, 1, 0], \"right\": [0, 0, 1]}\n",
    "INPUT_SHAPE=(-1, 8, 60)"
   ]
  },
  {
   "cell_type": "markdown",
   "metadata": {},
   "source": [
    "### Data loading"
   ]
  },
  {
   "cell_type": "code",
   "execution_count": 6,
   "metadata": {},
   "outputs": [],
   "source": [
    "def generate_dataset(is_validation_data):\n",
    "    dataset = []\n",
    "    path = os.path.join(DATA_DIR)\n",
    "    subdir = 'validation_data/' if is_validation_data else 'data/'\n",
    "\n",
    "    for label in LABELS:\n",
    "        label_dir = os.path.join(path, subdir, label)\n",
    "        for FILE in os.listdir(label_dir):\n",
    "            if USE_DOWNLOADED_SET:\n",
    "                ffts = np.load(os.path.join(DATA_DIR, subdir, label, FILE))\n",
    "                for fft_data in ffts:\n",
    "                    dataset.append([fft_data[:8], LABELS[label]])\n",
    "            else:\n",
    "                fft_data = np.load(os.path.join(DATA_DIR, FILE))\n",
    "                dataset.append([fft_data[:8], label])\n",
    "        \n",
    "        random.shuffle(dataset)\n",
    "    return dataset"
   ]
  },
  {
   "cell_type": "code",
   "execution_count": 7,
   "metadata": {},
   "outputs": [],
   "source": [
    "training = generate_dataset(False)\n",
    "validation = generate_dataset(True)\n",
    "\n",
    "train_x = []\n",
    "train_y = []\n",
    "for x, y in training:\n",
    "    train_x.append(x)\n",
    "    train_y.append(y)\n",
    "    \n",
    "val_x = []\n",
    "val_y = []\n",
    "for x, y in validation:\n",
    "    val_x.append(x)\n",
    "    val_y.append(y)\n",
    "\n",
    "train_x = np.array(train_x).reshape(INPUT_SHAPE)\n",
    "val_x = np.array(val_x).reshape(INPUT_SHAPE)\n",
    "\n",
    "train_y = np.array(train_y)\n",
    "val_y = np.array(val_y)"
   ]
  },
  {
   "cell_type": "markdown",
   "metadata": {},
   "source": [
    "### Neural network definition"
   ]
  },
  {
   "cell_type": "code",
   "execution_count": 48,
   "metadata": {},
   "outputs": [],
   "source": [
    "model = Sequential([\n",
    "    Conv1D(32, (2), activation='relu', input_shape=train_x.shape[1:], padding='same'),\n",
    "    MaxPooling1D(pool_size=(2)),\n",
    "    Conv1D(128, (2), activation='relu', padding='same'),\n",
    "    MaxPooling1D(pool_size=(2)),\n",
    "    Conv1D(64, (4), activation='relu', padding='same'),\n",
    "    MaxPooling1D(pool_size=(2)),\n",
    "    Dropout(0.4),\n",
    "    Flatten(),\n",
    "    Dense(128, activation='relu', kernel_regularizer='l1'),\n",
    "    Dense(3, activation=tf.nn.softmax)\n",
    "])"
   ]
  },
  {
   "cell_type": "code",
   "execution_count": 49,
   "metadata": {},
   "outputs": [],
   "source": [
    "model.compile(loss='categorical_crossentropy',\n",
    "              optimizer=tf.keras.optimizers.Adam(learning_rate=0.0001),\n",
    "              metrics=['accuracy'])"
   ]
  },
  {
   "cell_type": "code",
   "execution_count": 50,
   "metadata": {},
   "outputs": [
    {
     "name": "stdout",
     "output_type": "stream",
     "text": [
      "Model: \"sequential_9\"\n",
      "_________________________________________________________________\n",
      "Layer (type)                 Output Shape              Param #   \n",
      "=================================================================\n",
      "conv1d_28 (Conv1D)           (None, 8, 32)             3872      \n",
      "_________________________________________________________________\n",
      "max_pooling1d_24 (MaxPooling (None, 4, 32)             0         \n",
      "_________________________________________________________________\n",
      "conv1d_29 (Conv1D)           (None, 4, 128)            8320      \n",
      "_________________________________________________________________\n",
      "max_pooling1d_25 (MaxPooling (None, 2, 128)            0         \n",
      "_________________________________________________________________\n",
      "conv1d_30 (Conv1D)           (None, 2, 64)             32832     \n",
      "_________________________________________________________________\n",
      "max_pooling1d_26 (MaxPooling (None, 1, 64)             0         \n",
      "_________________________________________________________________\n",
      "dropout_9 (Dropout)          (None, 1, 64)             0         \n",
      "_________________________________________________________________\n",
      "flatten_9 (Flatten)          (None, 64)                0         \n",
      "_________________________________________________________________\n",
      "dense_18 (Dense)             (None, 128)               8320      \n",
      "_________________________________________________________________\n",
      "dense_19 (Dense)             (None, 3)                 387       \n",
      "=================================================================\n",
      "Total params: 53,731\n",
      "Trainable params: 53,731\n",
      "Non-trainable params: 0\n",
      "_________________________________________________________________\n"
     ]
    }
   ],
   "source": [
    "model.summary()"
   ]
  },
  {
   "cell_type": "code",
   "execution_count": 51,
   "metadata": {},
   "outputs": [
    {
     "name": "stdout",
     "output_type": "stream",
     "text": [
      "Train on 284625 samples, validate on 35250 samples\n",
      "Epoch 1/30\n",
      "284625/284625 [==============================] - 4s 13us/sample - loss: 7.2578 - accuracy: 0.3794 - val_loss: 6.2649 - val_accuracy: 0.3796\n",
      "Epoch 2/30\n",
      "284625/284625 [==============================] - 3s 12us/sample - loss: 5.3306 - accuracy: 0.4269 - val_loss: 4.5420 - val_accuracy: 0.3712\n",
      "Epoch 3/30\n",
      "284625/284625 [==============================] - 3s 12us/sample - loss: 3.7627 - accuracy: 0.4484 - val_loss: 3.1685 - val_accuracy: 0.3866\n",
      "Epoch 4/30\n",
      "284625/284625 [==============================] - 3s 12us/sample - loss: 2.5559 - accuracy: 0.4639 - val_loss: 2.1473 - val_accuracy: 0.4009\n",
      "Epoch 5/30\n",
      "284625/284625 [==============================] - 4s 12us/sample - loss: 1.7072 - accuracy: 0.4740 - val_loss: 1.4876 - val_accuracy: 0.3928\n",
      "Epoch 6/30\n",
      "284625/284625 [==============================] - 4s 13us/sample - loss: 1.2236 - accuracy: 0.4791 - val_loss: 1.1736 - val_accuracy: 0.4190\n",
      "Epoch 7/30\n",
      "284625/284625 [==============================] - 4s 13us/sample - loss: 1.0661 - accuracy: 0.4772 - val_loss: 1.1264 - val_accuracy: 0.4252\n",
      "Epoch 8/30\n",
      "284625/284625 [==============================] - 4s 13us/sample - loss: 1.0451 - accuracy: 0.4815 - val_loss: 1.1253 - val_accuracy: 0.4364\n",
      "Epoch 9/30\n",
      "284625/284625 [==============================] - 4s 13us/sample - loss: 1.0330 - accuracy: 0.4877 - val_loss: 1.1159 - val_accuracy: 0.4498\n",
      "Epoch 10/30\n",
      "284625/284625 [==============================] - 4s 13us/sample - loss: 1.0209 - accuracy: 0.4971 - val_loss: 1.0977 - val_accuracy: 0.4494\n",
      "Epoch 11/30\n",
      "284625/284625 [==============================] - 4s 13us/sample - loss: 1.0089 - accuracy: 0.5061 - val_loss: 1.0928 - val_accuracy: 0.4560\n",
      "Epoch 12/30\n",
      "284625/284625 [==============================] - 4s 13us/sample - loss: 0.9977 - accuracy: 0.5146 - val_loss: 1.0856 - val_accuracy: 0.4621\n",
      "Epoch 13/30\n",
      "284625/284625 [==============================] - 4s 13us/sample - loss: 0.9870 - accuracy: 0.5233 - val_loss: 1.0898 - val_accuracy: 0.4556\n",
      "Epoch 14/30\n",
      "284625/284625 [==============================] - 4s 13us/sample - loss: 0.9763 - accuracy: 0.5308 - val_loss: 1.0806 - val_accuracy: 0.4550\n",
      "Epoch 15/30\n",
      "284625/284625 [==============================] - 4s 13us/sample - loss: 0.9673 - accuracy: 0.5366 - val_loss: 1.0841 - val_accuracy: 0.4524\n",
      "Epoch 16/30\n",
      "284625/284625 [==============================] - 4s 14us/sample - loss: 0.9582 - accuracy: 0.5427 - val_loss: 1.0858 - val_accuracy: 0.4532\n",
      "Epoch 17/30\n",
      "284625/284625 [==============================] - 4s 14us/sample - loss: 0.9482 - accuracy: 0.5492 - val_loss: 1.0988 - val_accuracy: 0.4423\n",
      "Epoch 18/30\n",
      "284625/284625 [==============================] - 4s 14us/sample - loss: 0.9408 - accuracy: 0.5551 - val_loss: 1.1141 - val_accuracy: 0.4330\n",
      "Epoch 19/30\n",
      "284625/284625 [==============================] - 4s 14us/sample - loss: 0.9325 - accuracy: 0.5619 - val_loss: 1.1147 - val_accuracy: 0.4282\n",
      "Epoch 20/30\n",
      "284625/284625 [==============================] - 4s 14us/sample - loss: 0.9251 - accuracy: 0.5652 - val_loss: 1.1276 - val_accuracy: 0.4293\n",
      "Epoch 21/30\n",
      "284625/284625 [==============================] - 4s 14us/sample - loss: 0.9185 - accuracy: 0.5694 - val_loss: 1.1341 - val_accuracy: 0.4247\n",
      "Epoch 22/30\n",
      "284625/284625 [==============================] - 4s 14us/sample - loss: 0.9113 - accuracy: 0.5746 - val_loss: 1.1487 - val_accuracy: 0.4271\n",
      "Epoch 23/30\n",
      "284625/284625 [==============================] - 4s 14us/sample - loss: 0.9048 - accuracy: 0.5790 - val_loss: 1.1642 - val_accuracy: 0.4171\n",
      "Epoch 24/30\n",
      "284625/284625 [==============================] - 4s 14us/sample - loss: 0.8984 - accuracy: 0.5831 - val_loss: 1.1473 - val_accuracy: 0.4255\n",
      "Epoch 25/30\n",
      "284625/284625 [==============================] - 4s 14us/sample - loss: 0.8911 - accuracy: 0.5882 - val_loss: 1.1817 - val_accuracy: 0.4161\n",
      "Epoch 26/30\n",
      "284625/284625 [==============================] - 4s 14us/sample - loss: 0.8844 - accuracy: 0.5919 - val_loss: 1.2018 - val_accuracy: 0.4135\n",
      "Epoch 27/30\n",
      "284625/284625 [==============================] - 4s 14us/sample - loss: 0.8785 - accuracy: 0.5964 - val_loss: 1.1965 - val_accuracy: 0.4174\n",
      "Epoch 28/30\n",
      "284625/284625 [==============================] - 4s 14us/sample - loss: 0.8730 - accuracy: 0.6004 - val_loss: 1.2118 - val_accuracy: 0.4130\n",
      "Epoch 29/30\n",
      "284625/284625 [==============================] - 4s 14us/sample - loss: 0.8653 - accuracy: 0.6045 - val_loss: 1.2259 - val_accuracy: 0.4111\n",
      "Epoch 30/30\n",
      "284625/284625 [==============================] - 4s 14us/sample - loss: 0.8603 - accuracy: 0.6087 - val_loss: 1.2454 - val_accuracy: 0.4077\n"
     ]
    }
   ],
   "source": [
    "history = model.fit(train_x, train_y, epochs=30, batch_size=1024, validation_data=(val_x, val_y))"
   ]
  },
  {
   "cell_type": "code",
   "execution_count": 52,
   "metadata": {},
   "outputs": [
    {
     "data": {
      "image/png": "[encoded data removed]",
      "text/plain": [
       "<Figure size 432x288 with 1 Axes>"
      ]
     },
     "metadata": {
      "needs_background": "light"
     },
     "output_type": "display_data"
    },
    {
     "data": {
      "image/png": "[encoded data removed]",
      "text/plain": [
       "<Figure size 432x288 with 1 Axes>"
      ]
     },
     "metadata": {
      "needs_background": "light"
     },
     "output_type": "display_data"
    }
   ],
   "source": [
    "import matplotlib.pyplot as plt\n",
    "\n",
    "loss = plt.figure(1)\n",
    "history_loss = history.history['loss']\n",
    "history_val_loss = history.history['val_loss']\n",
    "epochs = range(len(history_loss))\n",
    "\n",
    "plt.plot(epochs, history_loss, 'ko', label='Training loss')\n",
    "plt.plot(epochs, history_val_loss, 'r', label='Validation loss')\n",
    "plt.title('Training and validation loss')\n",
    "plt.legend()\n",
    "\n",
    "loss = plt.figure(2)\n",
    "history_acc = history.history['accuracy']\n",
    "history_val_acc = history.history['val_accuracy']\n",
    "epochs = range(len(history_loss))\n",
    "\n",
    "plt.plot(epochs, history_acc, 'ko', label='Training acc')\n",
    "plt.plot(epochs, history_val_acc, 'b', label='Validation acc')\n",
    "plt.title('Training and validation loss')\n",
    "plt.legend()\n",
    "\n",
    "plt.show()"
   ]
  }
 ],
 "metadata": {
  "kernelspec": {
   "display_name": "Python 3",
   "language": "python",
   "name": "python3"
  },
  "language_info": {
   "codemirror_mode": {
    "name": "ipython",
    "version": 3
   },
   "file_extension": ".py",
   "mimetype": "text/x-python",
   "name": "python",
   "nbconvert_exporter": "python",
   "pygments_lexer": "ipython3",
   "version": "3.7.10"
  }
 },
 "nbformat": 4,
 "nbformat_minor": 4
}
