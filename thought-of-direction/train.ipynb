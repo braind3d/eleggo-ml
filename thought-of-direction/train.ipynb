{
 "cells": [
  {
   "cell_type": "markdown",
   "metadata": {},
   "source": [
    "# Train"
   ]
  },
  {
   "cell_type": "markdown",
   "metadata": {},
   "source": [
    "### Library setups and imports"
   ]
  },
  {
   "cell_type": "code",
   "execution_count": 1,
   "metadata": {
    "scrolled": true
   },
   "outputs": [
    {
     "name": "stdout",
     "output_type": "stream",
     "text": [
      "Requirement already satisfied: pylsl==1.14.0 in c:\\users\\tsb\\.conda\\envs\\eleggo\\lib\\site-packages (from -r requirements.txt (line 1)) (1.14.0)\n",
      "Requirement already satisfied: numpy==1.19.2 in c:\\users\\tsb\\.conda\\envs\\eleggo\\lib\\site-packages (from -r requirements.txt (line 2)) (1.19.2)\n",
      "Requirement already satisfied: tensorflow-gpu==2.4.1 in c:\\users\\tsb\\.conda\\envs\\eleggo\\lib\\site-packages (from -r requirements.txt (line 3)) (2.4.1)\n",
      "Requirement already satisfied: matplotlib==3.3.4 in c:\\users\\tsb\\.conda\\envs\\eleggo\\lib\\site-packages (from -r requirements.txt (line 4)) (3.3.4)\n",
      "Requirement already satisfied: wget==3.2 in c:\\users\\tsb\\.conda\\envs\\eleggo\\lib\\site-packages (from -r requirements.txt (line 5)) (3.2)\n",
      "Requirement already satisfied: pillow>=6.2.0 in c:\\users\\tsb\\.conda\\envs\\eleggo\\lib\\site-packages (from matplotlib==3.3.4->-r requirements.txt (line 4)) (8.1.2)\n",
      "Requirement already satisfied: python-dateutil>=2.1 in c:\\users\\tsb\\.conda\\envs\\eleggo\\lib\\site-packages (from matplotlib==3.3.4->-r requirements.txt (line 4)) (2.8.1)\n",
      "Requirement already satisfied: cycler>=0.10 in c:\\users\\tsb\\.conda\\envs\\eleggo\\lib\\site-packages (from matplotlib==3.3.4->-r requirements.txt (line 4)) (0.10.0)\n",
      "Requirement already satisfied: pyparsing!=2.0.4,!=2.1.2,!=2.1.6,>=2.0.3 in c:\\users\\tsb\\.conda\\envs\\eleggo\\lib\\site-packages (from matplotlib==3.3.4->-r requirements.txt (line 4)) (2.4.7)\n",
      "Requirement already satisfied: kiwisolver>=1.0.1 in c:\\users\\tsb\\.conda\\envs\\eleggo\\lib\\site-packages (from matplotlib==3.3.4->-r requirements.txt (line 4)) (1.3.1)\n",
      "Requirement already satisfied: absl-py~=0.10 in c:\\users\\tsb\\.conda\\envs\\eleggo\\lib\\site-packages (from tensorflow-gpu==2.4.1->-r requirements.txt (line 3)) (0.12.0)\n",
      "Requirement already satisfied: astunparse~=1.6.3 in c:\\users\\tsb\\.conda\\envs\\eleggo\\lib\\site-packages (from tensorflow-gpu==2.4.1->-r requirements.txt (line 3)) (1.6.3)\n",
      "Requirement already satisfied: protobuf>=3.9.2 in c:\\users\\tsb\\.conda\\envs\\eleggo\\lib\\site-packages (from tensorflow-gpu==2.4.1->-r requirements.txt (line 3)) (3.14.0)\n",
      "Requirement already satisfied: keras-preprocessing~=1.1.2 in c:\\users\\tsb\\.conda\\envs\\eleggo\\lib\\site-packages (from tensorflow-gpu==2.4.1->-r requirements.txt (line 3)) (1.1.2)\n",
      "Requirement already satisfied: wheel~=0.35 in c:\\users\\tsb\\.conda\\envs\\eleggo\\lib\\site-packages (from tensorflow-gpu==2.4.1->-r requirements.txt (line 3)) (0.36.2)\n",
      "Requirement already satisfied: termcolor~=1.1.0 in c:\\users\\tsb\\.conda\\envs\\eleggo\\lib\\site-packages (from tensorflow-gpu==2.4.1->-r requirements.txt (line 3)) (1.1.0)\n",
      "Requirement already satisfied: typing-extensions~=3.7.4 in c:\\users\\tsb\\.conda\\envs\\eleggo\\lib\\site-packages (from tensorflow-gpu==2.4.1->-r requirements.txt (line 3)) (3.7.4.3)\n",
      "Requirement already satisfied: flatbuffers~=1.12.0 in c:\\users\\tsb\\.conda\\envs\\eleggo\\lib\\site-packages (from tensorflow-gpu==2.4.1->-r requirements.txt (line 3)) (1.12)\n",
      "Requirement already satisfied: grpcio~=1.32.0 in c:\\users\\tsb\\.conda\\envs\\eleggo\\lib\\site-packages (from tensorflow-gpu==2.4.1->-r requirements.txt (line 3)) (1.32.0)\n",
      "Requirement already satisfied: tensorboard~=2.4 in c:\\users\\tsb\\.conda\\envs\\eleggo\\lib\\site-packages (from tensorflow-gpu==2.4.1->-r requirements.txt (line 3)) (2.4.0)\n",
      "Requirement already satisfied: gast==0.3.3 in c:\\users\\tsb\\.conda\\envs\\eleggo\\lib\\site-packages (from tensorflow-gpu==2.4.1->-r requirements.txt (line 3)) (0.3.3)\n",
      "Requirement already satisfied: tensorflow-estimator<2.5.0,>=2.4.0 in c:\\users\\tsb\\.conda\\envs\\eleggo\\lib\\site-packages (from tensorflow-gpu==2.4.1->-r requirements.txt (line 3)) (2.4.0)\n",
      "Requirement already satisfied: google-pasta~=0.2 in c:\\users\\tsb\\.conda\\envs\\eleggo\\lib\\site-packages (from tensorflow-gpu==2.4.1->-r requirements.txt (line 3)) (0.2.0)\n",
      "Requirement already satisfied: opt-einsum~=3.3.0 in c:\\users\\tsb\\.conda\\envs\\eleggo\\lib\\site-packages (from tensorflow-gpu==2.4.1->-r requirements.txt (line 3)) (3.3.0)\n",
      "Requirement already satisfied: wrapt~=1.12.1 in c:\\users\\tsb\\.conda\\envs\\eleggo\\lib\\site-packages (from tensorflow-gpu==2.4.1->-r requirements.txt (line 3)) (1.12.1)\n",
      "Requirement already satisfied: six~=1.15.0 in c:\\users\\tsb\\.conda\\envs\\eleggo\\lib\\site-packages (from tensorflow-gpu==2.4.1->-r requirements.txt (line 3)) (1.15.0)\n",
      "Requirement already satisfied: h5py~=2.10.0 in c:\\users\\tsb\\.conda\\envs\\eleggo\\lib\\site-packages (from tensorflow-gpu==2.4.1->-r requirements.txt (line 3)) (2.10.0)\n",
      "Requirement already satisfied: requests<3,>=2.21.0 in c:\\users\\tsb\\.conda\\envs\\eleggo\\lib\\site-packages (from tensorboard~=2.4->tensorflow-gpu==2.4.1->-r requirements.txt (line 3)) (2.25.1)\n",
      "Requirement already satisfied: setuptools>=41.0.0 in c:\\users\\tsb\\.conda\\envs\\eleggo\\lib\\site-packages (from tensorboard~=2.4->tensorflow-gpu==2.4.1->-r requirements.txt (line 3)) (52.0.0.post20210125)\n",
      "Requirement already satisfied: google-auth<2,>=1.6.3 in c:\\users\\tsb\\.conda\\envs\\eleggo\\lib\\site-packages (from tensorboard~=2.4->tensorflow-gpu==2.4.1->-r requirements.txt (line 3)) (1.27.1)\n",
      "Requirement already satisfied: markdown>=2.6.8 in c:\\users\\tsb\\.conda\\envs\\eleggo\\lib\\site-packages (from tensorboard~=2.4->tensorflow-gpu==2.4.1->-r requirements.txt (line 3)) (3.3.4)\n",
      "Requirement already satisfied: google-auth-oauthlib<0.5,>=0.4.1 in c:\\users\\tsb\\.conda\\envs\\eleggo\\lib\\site-packages (from tensorboard~=2.4->tensorflow-gpu==2.4.1->-r requirements.txt (line 3)) (0.4.3)\n",
      "Requirement already satisfied: werkzeug>=0.11.15 in c:\\users\\tsb\\.conda\\envs\\eleggo\\lib\\site-packages (from tensorboard~=2.4->tensorflow-gpu==2.4.1->-r requirements.txt (line 3)) (1.0.1)\n",
      "Requirement already satisfied: tensorboard-plugin-wit>=1.6.0 in c:\\users\\tsb\\.conda\\envs\\eleggo\\lib\\site-packages (from tensorboard~=2.4->tensorflow-gpu==2.4.1->-r requirements.txt (line 3)) (1.6.0)\n",
      "Requirement already satisfied: cachetools<5.0,>=2.0.0 in c:\\users\\tsb\\.conda\\envs\\eleggo\\lib\\site-packages (from google-auth<2,>=1.6.3->tensorboard~=2.4->tensorflow-gpu==2.4.1->-r requirements.txt (line 3)) (4.2.1)\n",
      "Requirement already satisfied: rsa<5,>=3.1.4 in c:\\users\\tsb\\.conda\\envs\\eleggo\\lib\\site-packages (from google-auth<2,>=1.6.3->tensorboard~=2.4->tensorflow-gpu==2.4.1->-r requirements.txt (line 3)) (4.7.2)\n",
      "Requirement already satisfied: pyasn1-modules>=0.2.1 in c:\\users\\tsb\\.conda\\envs\\eleggo\\lib\\site-packages (from google-auth<2,>=1.6.3->tensorboard~=2.4->tensorflow-gpu==2.4.1->-r requirements.txt (line 3)) (0.2.8)\n",
      "Requirement already satisfied: requests-oauthlib>=0.7.0 in c:\\users\\tsb\\.conda\\envs\\eleggo\\lib\\site-packages (from google-auth-oauthlib<0.5,>=0.4.1->tensorboard~=2.4->tensorflow-gpu==2.4.1->-r requirements.txt (line 3)) (1.3.0)\n",
      "Requirement already satisfied: pyasn1<0.5.0,>=0.4.6 in c:\\users\\tsb\\.conda\\envs\\eleggo\\lib\\site-packages (from pyasn1-modules>=0.2.1->google-auth<2,>=1.6.3->tensorboard~=2.4->tensorflow-gpu==2.4.1->-r requirements.txt (line 3)) (0.4.8)\n",
      "Requirement already satisfied: chardet<5,>=3.0.2 in c:\\users\\tsb\\.conda\\envs\\eleggo\\lib\\site-packages (from requests<3,>=2.21.0->tensorboard~=2.4->tensorflow-gpu==2.4.1->-r requirements.txt (line 3)) (3.0.4)\n",
      "Requirement already satisfied: certifi>=2017.4.17 in c:\\users\\tsb\\.conda\\envs\\eleggo\\lib\\site-packages (from requests<3,>=2.21.0->tensorboard~=2.4->tensorflow-gpu==2.4.1->-r requirements.txt (line 3)) (2020.12.5)\n",
      "Requirement already satisfied: urllib3<1.27,>=1.21.1 in c:\\users\\tsb\\.conda\\envs\\eleggo\\lib\\site-packages (from requests<3,>=2.21.0->tensorboard~=2.4->tensorflow-gpu==2.4.1->-r requirements.txt (line 3)) (1.26.3)\n",
      "Requirement already satisfied: idna<3,>=2.5 in c:\\users\\tsb\\.conda\\envs\\eleggo\\lib\\site-packages (from requests<3,>=2.21.0->tensorboard~=2.4->tensorflow-gpu==2.4.1->-r requirements.txt (line 3)) (2.10)\n",
      "Requirement already satisfied: oauthlib>=3.0.0 in c:\\users\\tsb\\.conda\\envs\\eleggo\\lib\\site-packages (from requests-oauthlib>=0.7.0->google-auth-oauthlib<0.5,>=0.4.1->tensorboard~=2.4->tensorflow-gpu==2.4.1->-r requirements.txt (line 3)) (3.1.0)\n"
     ]
    }
   ],
   "source": [
    "!pip install -r requirements.txt"
   ]
  },
  {
   "cell_type": "code",
   "execution_count": 2,
   "metadata": {
    "scrolled": true
   },
   "outputs": [],
   "source": [
    "import os\n",
    "import wget\n",
    "import py7zr\n",
    "import numpy as np\n",
    "import tensorflow as tf\n",
    "from pyunpack import Archive\n",
    "from tensorflow.keras.models import Sequential\n",
    "from tensorflow.keras.layers import Dense, Dropout, Activation, Flatten\n",
    "from tensorflow.keras.layers import Conv1D, MaxPooling1D, BatchNormalization"
   ]
  },
  {
   "cell_type": "markdown",
   "metadata": {},
   "source": [
    "### Parameters"
   ]
  },
  {
   "cell_type": "code",
   "execution_count": 3,
   "metadata": {},
   "outputs": [],
   "source": [
    "USE_DOWNLOADED_SET = True\n",
    "DOWNLOADED_SET_URL = 'https://hkinsley.com/static/downloads/bci/model_data_v2.7z'\n",
    "DATA_DIR = 'data/mask-iv-openbci' if USE_DOWNLOADED_SET else 'data/personal'\n",
    "LABELS = {\"left\": [1, 0, 0], \"none\": [0, 1, 0], \"right\": [0, 0, 1]}\n",
    "INPUT_SHAPE=(-1, 8, 60)"
   ]
  },
  {
   "cell_type": "markdown",
   "metadata": {},
   "source": [
    "### Data loading"
   ]
  },
  {
   "cell_type": "code",
   "execution_count": 4,
   "metadata": {},
   "outputs": [],
   "source": [
    "def generate_dataset(is_validation_data):\n",
    "    dataset = []\n",
    "    path = os.path.join(DATA_DIR)\n",
    "    subdir = 'validation_data/' if is_validation_data else 'data/'\n",
    "\n",
    "    if not os.path.exists(path):\n",
    "        wget.download(DOWNLOADED_SET_URL, os.path.join(path, '../mask-iv-openbci.7z'))\n",
    "        with py7zr.SevenZipFile(os.path.join(DATA_DIR, '../mask-iv-openbci.7z'), mode='r') as z:\n",
    "            z.extractall(path)\n",
    "        # TODO: Automatically move 'data' and 'validation_data' one 1 level up on downloaded oh...\n",
    "\n",
    "    for label in LABELS:\n",
    "        label_dir = os.path.join(path, subdir, label)\n",
    "        for FILE in os.listdir(label_dir):\n",
    "            if USE_DOWNLOADED_SET:\n",
    "                ffts = np.load(os.path.join(DATA_DIR, subdir, label, FILE))\n",
    "                for fft_data in ffts:\n",
    "                    dataset.append([fft_data, label])\n",
    "            else:\n",
    "                fft_data = np.load(os.path.join(DATA_DIR, FILE))\n",
    "                dataset.append([fft_data, label])\n",
    "    return dataset"
   ]
  },
  {
   "cell_type": "code",
   "execution_count": 10,
   "metadata": {},
   "outputs": [],
   "source": [
    "training = generate_dataset(True)\n",
    "validation = generate_dataset(True)\n",
    "\n",
    "train_x = []\n",
    "train_y = []\n",
    "for x, y in training:\n",
    "    train_x.append(x)\n",
    "    train_y.append(y)\n",
    "    \n",
    "val_x = []\n",
    "val_y = []\n",
    "for x, y in validation:\n",
    "    val_x.append(x)\n",
    "    val_y.append(y)\n",
    "\n",
    "train_x = np.array(train_x).reshape(INPUT_SHAPE)\n",
    "val_x = np.array(val_x).reshape(INPUT_SHAPE)\n",
    "\n",
    "train_y = np.array(train_y)\n",
    "val_y = np.array(val_y)"
   ]
  },
  {
   "cell_type": "markdown",
   "metadata": {},
   "source": [
    "### Neural network definition"
   ]
  },
  {
   "cell_type": "code",
   "execution_count": 11,
   "metadata": {},
   "outputs": [],
   "source": [
    "model = Sequential([\n",
    "    Conv1D(32, (3), activation=tf.nn.relu, input_shape=train_x.shape[1:]),\n",
    "    Conv1D(32, (2), activation=tf.nn.relu),\n",
    "    MaxPooling1D(pool_size=(2)),\n",
    "    Conv1D(32, (2), activation=tf.nn.relu),\n",
    "    Flatten(),\n",
    "    Dense(512),\n",
    "    Dense(3, activation=tf.nn.softmax)\n",
    "])"
   ]
  },
  {
   "cell_type": "code",
   "execution_count": 12,
   "metadata": {},
   "outputs": [],
   "source": [
    "model.compile(loss='categorical_crossentropy',\n",
    "              optimizer='adam',\n",
    "              metrics=['accuracy'])"
   ]
  }
 ],
 "metadata": {
  "kernelspec": {
   "display_name": "Python 3",
   "language": "python",
   "name": "python3"
  },
  "language_info": {
   "codemirror_mode": {
    "name": "ipython",
    "version": 3
   },
   "file_extension": ".py",
   "mimetype": "text/x-python",
   "name": "python",
   "nbconvert_exporter": "python",
   "pygments_lexer": "ipython3",
   "version": "3.8.8"
  }
 },
 "nbformat": 4,
 "nbformat_minor": 4
}
